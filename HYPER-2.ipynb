{
 "cells": [
  {
   "cell_type": "code",
   "execution_count": 1,
   "metadata": {},
   "outputs": [],
   "source": [
    "import numpy as np \n",
    "import pandas as pd\n",
    "import matplotlib.pyplot as plt"
   ]
  },
  {
   "cell_type": "code",
   "execution_count": 2,
   "metadata": {},
   "outputs": [],
   "source": [
    "%matplotlib inline"
   ]
  },
  {
   "cell_type": "code",
   "execution_count": 3,
   "metadata": {},
   "outputs": [],
   "source": [
    "import networkx as nx"
   ]
  },
  {
   "cell_type": "code",
   "execution_count": 4,
   "metadata": {},
   "outputs": [],
   "source": [
    "HYPER=nx.read_edgelist(\"EMPTY.txt\")"
   ]
  },
  {
   "cell_type": "code",
   "execution_count": 5,
   "metadata": {},
   "outputs": [],
   "source": [
    "HYPER.add_weighted_edges_from([\n",
    "(1,2,51),\n",
    "(2,3,75),\n",
    "(3,4,35),\n",
    "(4,5,35),\n",
    "(5,6,17),\n",
    "(6,7,98),\n",
    "(7,8,42),\n",
    "(8,9,306),\n",
    "(9,10,74),\n",
    "(10,11,45),\n",
    "(11,12,27),\n",
    "(12,13,18),\n",
    "(13,14,9.5),\n",
    "(14,15,20),\n",
    "(15,16,25),\n",
    "(16,17,13),\n",
    "(17,19,50),\n",
    "(1,20,85),\n",
    "(20,21,57),\n",
    "(21,22,15),\n",
    "(22,23,47),\n",
    "(23,24,23),\n",
    "(24,25,24),\n",
    "(25,26,53),\n",
    "(26,27,42),\n",
    "(27,28,58),\n",
    "(28,29,166),\n",
    "(29,30,170),\n",
    "(30,31,18),\n",
    "(31,19,72),\n",
    "(3,32,17),\n",
    "(3,5,34),\n",
    "(32,21,49),\n",
    "(21,33,28),\n",
    "(50,21,20),\n",
    "(21,22,15),\n",
    "(6,4,100),\n",
    "(6,33,55),\n",
    "(6,5,18),\n",
    "(6,51,42),\n",
    "(51,28,123),\n",
    "(28,45,326),\n",
    "(45,30,25),\n",
    "(30,52,65),\n",
    "(52,10,40),\n",
    "(52,53,32),\n",
    "(53,15,23),\n",
    "(53,12,40),\n",
    "(53,17,42),\n",
    "(17,19,48),\n",
    "(50,32,30)])"
   ]
  },
  {
   "cell_type": "code",
   "execution_count": 6,
   "metadata": {},
   "outputs": [
    {
     "name": "stderr",
     "output_type": "stream",
     "text": [
      "C:\\Users\\amrgh\\Anaconda3\\lib\\site-packages\\networkx\\drawing\\nx_pylab.py:579: MatplotlibDeprecationWarning: \n",
      "The iterable function was deprecated in Matplotlib 3.1 and will be removed in 3.3. Use np.iterable instead.\n",
      "  if not cb.iterable(width):\n"
     ]
    },
    {
     "data": {
      "image/png": "[encoded data removed]",
      "text/plain": [
       "<Figure size 432x288 with 1 Axes>"
      ]
     },
     "metadata": {},
     "output_type": "display_data"
    }
   ],
   "source": [
    "nx.draw(HYPER)"
   ]
  },
  {
   "cell_type": "code",
   "execution_count": 7,
   "metadata": {},
   "outputs": [
    {
     "name": "stdout",
     "output_type": "stream",
     "text": [
      "[(1, 2), (1, 20), (2, 3), (3, 4), (3, 32), (3, 5), (4, 5), (4, 6), (5, 6), (6, 7), (6, 33), (6, 51), (7, 8), (8, 9), (9, 10), (10, 11), (10, 52), (11, 12), (12, 13), (12, 53), (13, 14), (14, 15), (15, 16), (15, 53), (16, 17), (17, 19), (17, 53), (19, 31), (20, 21), (21, 22), (21, 32), (21, 33), (21, 50), (22, 23), (23, 24), (24, 25), (25, 26), (26, 27), (27, 28), (28, 29), (28, 51), (28, 45), (29, 30), (30, 31), (30, 45), (30, 52), (32, 50), (52, 53)]\n"
     ]
    }
   ],
   "source": [
    "print(HYPER.edges())"
   ]
  },
  {
   "cell_type": "code",
   "execution_count": 8,
   "metadata": {},
   "outputs": [],
   "source": [
    "#nx.write_gml(HYPER, \"test.gml\")"
   ]
  },
  {
   "cell_type": "code",
   "execution_count": 9,
   "metadata": {},
   "outputs": [],
   "source": [
    "L = nx.shortest_path(\n",
    "    HYPER,\n",
    "    source=1,\n",
    "    target=19,\n",
    "    weight=None,\n",
    "    method='dijkstra',)"
   ]
  },
  {
   "cell_type": "code",
   "execution_count": 10,
   "metadata": {},
   "outputs": [],
   "source": [
    "import pandas as pd"
   ]
  },
  {
   "cell_type": "code",
   "execution_count": 11,
   "metadata": {},
   "outputs": [
    {
     "data": {
      "text/plain": [
       "[1, 2, 3, 5, 6, 51, 28, 29, 30, 31, 19]"
      ]
     },
     "execution_count": 11,
     "metadata": {},
     "output_type": "execute_result"
    }
   ],
   "source": [
    "L"
   ]
  },
  {
   "cell_type": "code",
   "execution_count": 12,
   "metadata": {},
   "outputs": [],
   "source": [
    "data=pd.read_csv(\"haupt.csv\")"
   ]
  },
  {
   "cell_type": "code",
   "execution_count": 13,
   "metadata": {},
   "outputs": [],
   "source": [
    "import csv\n",
    "import numpy\n",
    "reader = csv.reader(open(\"haupt.csv\"), delimiter=\",\")\n",
    "x = list(reader)\n",
    "M = numpy.array(x)"
   ]
  },
  {
   "cell_type": "code",
   "execution_count": 14,
   "metadata": {},
   "outputs": [
    {
     "data": {
      "text/plain": [
       "array([['  ', ' '],\n",
       "       ['SAN DIEGO', '1'],\n",
       "       ['CARLSBAD', '2'],\n",
       "       ['IRVINE', '3'],\n",
       "       ['LONG BEACH', '4'],\n",
       "       ['SANTA MONICA', '5'],\n",
       "       ['LOS ANGLES', '6'],\n",
       "       ['VENTURA', '7'],\n",
       "       ['SANTA BARBARA', '8'],\n",
       "       ['SALINAS', '9'],\n",
       "       ['SAN JOSE', '10'],\n",
       "       ['SAN MATEO', '11'],\n",
       "       ['SAN FRANCISCO', '12'],\n",
       "       ['BERKLES', '13'],\n",
       "       ['RICHMOND', '14'],\n",
       "       ['VALLEJO', '15'],\n",
       "       ['FAIRFIELD', '16'],\n",
       "       ['VACAVILLE', '17'],\n",
       "       ['SACRAMENTO', '19'],\n",
       "       ['SAN DIEGO', '1'],\n",
       "       ['TEMECULA', '20'],\n",
       "       ['RIVERSIDE', '21'],\n",
       "       ['SAN BERNANDIRO', '22'],\n",
       "       ['VICTORVILLE', '23'],\n",
       "       ['HELENDALE', '24'],\n",
       "       ['KRAMER HILLS', '25'],\n",
       "       ['CALIFORNIA CITY', '26'],\n",
       "       ['TEHACHAPI', '27'],\n",
       "       ['BAKERSFIELD', '28'],\n",
       "       ['FRESNO', '29'],\n",
       "       ['MANTECA', '30'],\n",
       "       ['STOCKTON', '31'],\n",
       "       ['SACRAMENTO', '19'],\n",
       "       ['ANAHEIM', '32'],\n",
       "       ['ONTARIO', '33'],\n",
       "       ['CORONA', '50'],\n",
       "       ['BAKERSFIELD', '28'],\n",
       "       ['LOST HILLS', '34'],\n",
       "       ['VERNALIS', '45'],\n",
       "       ['MANTECA', '30'],\n",
       "       ['PLEASANTON', '46'],\n",
       "       ['WALNUT CREEK', '47'],\n",
       "       ['CONCORD', '48'],\n",
       "       ['VACAVILLE', '17'],\n",
       "       ['VALLEJO', '15'],\n",
       "       ['VISTA', '49'],\n",
       "       ['SANTA CLARITA', '51'],\n",
       "       ['DUBLIN', '52'],\n",
       "       ['CONCORDE', '53']], dtype='<U15')"
      ]
     },
     "execution_count": 14,
     "metadata": {},
     "output_type": "execute_result"
    }
   ],
   "source": [
    "M"
   ]
  },
  {
   "cell_type": "code",
   "execution_count": 15,
   "metadata": {},
   "outputs": [],
   "source": [
    "l = M.shape[0]"
   ]
  },
  {
   "cell_type": "code",
   "execution_count": 16,
   "metadata": {},
   "outputs": [],
   "source": [
    "p=[]\n",
    "for j in range(len(L)):\n",
    "    for i in range(l):\n",
    "        if (str(L[j])==M[i][1]):\n",
    "            x = M[i][0]\n",
    "            p.append(x)"
   ]
  },
  {
   "cell_type": "code",
   "execution_count": 19,
   "metadata": {},
   "outputs": [],
   "source": [
    "def remove(p):\n",
    "        for i in range(len(p)-1):    \n",
    "            if (p[i]==p[i+1]):\n",
    "                p.remove(p[i])\n",
    "        "
   ]
  },
  {
   "cell_type": "code",
   "execution_count": 23,
   "metadata": {},
   "outputs": [],
   "source": [
    "remove(p)"
   ]
  },
  {
   "cell_type": "code",
   "execution_count": 24,
   "metadata": {},
   "outputs": [
    {
     "data": {
      "text/plain": [
       "['SAN DIEGO',\n",
       " 'CARLSBAD',\n",
       " 'IRVINE',\n",
       " 'SANTA MONICA',\n",
       " 'LOS ANGLES',\n",
       " 'SANTA CLARITA',\n",
       " 'BAKERSFIELD',\n",
       " 'FRESNO',\n",
       " 'MANTECA',\n",
       " 'STOCKTON',\n",
       " 'SACRAMENTO']"
      ]
     },
     "execution_count": 24,
     "metadata": {},
     "output_type": "execute_result"
    }
   ],
   "source": [
    "p"
   ]
  }
 ],
 "metadata": {
  "kernelspec": {
   "display_name": "Python 3",
   "language": "python",
   "name": "python3"
  },
  "language_info": {
   "codemirror_mode": {
    "name": "ipython",
    "version": 3
   },
   "file_extension": ".py",
   "mimetype": "text/x-python",
   "name": "python",
   "nbconvert_exporter": "python",
   "pygments_lexer": "ipython3",
   "version": "3.7.1"
  }
 },
 "nbformat": 4,
 "nbformat_minor": 4
}
